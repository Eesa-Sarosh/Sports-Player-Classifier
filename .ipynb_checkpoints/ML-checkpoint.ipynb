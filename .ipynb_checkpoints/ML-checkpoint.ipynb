{
 "cells": [
  {
   "cell_type": "code",
   "execution_count": 1,
   "id": "50c6be69-0732-4843-8c8e-8cc156049d9d",
   "metadata": {},
   "outputs": [],
   "source": [
    "import numpy as np\n",
    "import cv2\n",
    "import re\n",
    "import matplotlib\n",
    "import shutil\n",
    "import os\n",
    "from matplotlib import pyplot as plt\n",
    "%matplotlib inline"
   ]
  },
  {
   "cell_type": "code",
   "execution_count": null,
   "id": "a1c1abbe-2899-44c6-a7d0-87d7138be6e9",
   "metadata": {},
   "outputs": [],
   "source": [
    "import time\n",
    "from selenium import webdriver\n",
    "from selenium.webdriver.common.by import By\n",
    "from selenium.webdriver.chrome.options import Options\n",
    "import os\n",
    "import requests\n",
    "chrome_options = Options()\n",
    "chrome_options.add_experimental_option(\"detach\", True)\n",
    "driver = webdriver.Chrome(options=chrome_options)\n",
    "\n",
    "\n",
    "\n",
    "def download_image(url, folder_name, num):\n",
    "\n",
    "    # write image to file\n",
    "    reponse = requests.get(url)\n",
    "    if reponse.status_code == 200:\n",
    "        with open(os.path.join(folder_name, str(num)+\".jpg\"), 'wb') as file:\n",
    "            file.write(reponse.content)\n",
    "\n",
    "main_folder_name = 'Images'\n",
    "if not os.path.isdir(main_folder_name):\n",
    "    os.makedirs(main_folder_name)\n",
    "\n",
    "players = [\"lionel_messi\", \"cristiano_ronaldo\", \"charles_leclerc\", \"alex_morgan\"]\n",
    "for j in range(len(players)):\n",
    "    #creating player directory\n",
    "    sub_folder_name = players[j]\n",
    "    if not os.path.isdir(os.path.join(main_folder_name, sub_folder_name)):\n",
    "        os.makedirs(os.path.join(main_folder_name, sub_folder_name))\n",
    "    player = players[j].split(\"_\")  # #creating search string\n",
    "    search_string = player[0]+\"+\"+player[1]+\"+\"+\"face\"\n",
    "\n",
    "    url = f\"https://www.google.com/search?q={search_string}&source=lnms&tbm=isch\"\n",
    "    driver.get(url)\n",
    "    time.sleep(7)\n",
    "    for i in range(1, 55):\n",
    "        img_url = \"\"\n",
    "        #At div 25 we do not have images.\n",
    "        if i % 25 != 0:\n",
    "            try:\n",
    "                image_container = driver.find_element(By.XPATH,f'//*[@id=\"islrg\"]/div[1]/div[{i}]/a[1]/div[1]/img').click()\n",
    "                time.sleep(3)\n",
    "                img_url = driver.find_element(By.XPATH,'//*[@id=\"Sva75c\"]/div[2]/div[2]/div[2]/div[2]/c-wiz/div/div/div/div[3]/div[1]/a/img[1]').get_attribute(\"src\")\n",
    "                print(img_url)\n",
    "                time.sleep(1)\n",
    "            except:\n",
    "                print(\"Could not click\")\n",
    "            try:\n",
    "                if img_url !=\"\":\n",
    "                    download_image(img_url, os.path.join(main_folder_name, sub_folder_name), i)\n",
    "            except:\n",
    "                print(\"Could not download.\")"
   ]
  }
 ],
 "metadata": {
  "kernelspec": {
   "display_name": "Python 3 (ipykernel)",
   "language": "python",
   "name": "python3"
  },
  "language_info": {
   "codemirror_mode": {
    "name": "ipython",
    "version": 3
   },
   "file_extension": ".py",
   "mimetype": "text/x-python",
   "name": "python",
   "nbconvert_exporter": "python",
   "pygments_lexer": "ipython3",
   "version": "3.10.10"
  }
 },
 "nbformat": 4,
 "nbformat_minor": 5
}
